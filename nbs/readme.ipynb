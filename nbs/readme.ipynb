{
 "cells": [
  {
   "cell_type": "raw",
   "id": "d91c57f1-2b7f-4cc9-9063-0a4c02431c7f",
   "metadata": {},
   "source": [
    "---\n",
    "title: \"Using Presto for habitat type classification \"\n",
    "\n",
    "website: \n",
    "  page-navigation: true\n",
    "\n",
    "---"
   ]
  },
  {
   "cell_type": "markdown",
   "id": "2b65a765-8557-46c9-80c3-d31739c3a1f1",
   "metadata": {},
   "source": [
    "[Presto](https://github.com/nasaharvest/presto) is a promising foundation model for remote sensing data, originally created for crop classificatoin. This repo is an example workflow for\n",
    "\n",
    "1. Creating the data suitable for the model, using CDSE and Paituli STAC\n",
    "2. Sampling the datacubes with point locations\n",
    "3. Running [Presto](https://www.youtube.com/watch?v=5-tqtgQFcHc) for habitat classification in Northern Lapland, Finland.\n",
    "\n",
    "Source code in presto folder adapted from the original repository, as well as from [WorldCereal/presto-worldcereal](https://github.com/WorldCereal/presto-worldcereal/)."
   ]
  },
  {
   "cell_type": "markdown",
   "id": "695471d7-0b1c-4977-9122-a46aacce6adc",
   "metadata": {},
   "source": [
    "## Installation\n",
    "\n",
    "Clone the repository and `conda env create -f env.yml`. For jupyter notebooks, either `conda install -c conda-forge notebook` or `conda install -c conda-forge ipykernel`, depending how your jupyter is set up."
   ]
  },
  {
   "cell_type": "code",
   "execution_count": null,
   "id": "ae739797-3d20-4acf-8249-b9930cbcdd96",
   "metadata": {},
   "outputs": [],
   "source": []
  }
 ],
 "metadata": {
  "kernelspec": {
   "display_name": "Python [conda env:presto]",
   "language": "python",
   "name": "conda-env-presto-py"
  },
  "language_info": {
   "codemirror_mode": {
    "name": "ipython",
    "version": 3
   },
   "file_extension": ".py",
   "mimetype": "text/x-python",
   "name": "python",
   "nbconvert_exporter": "python",
   "pygments_lexer": "ipython3",
   "version": "3.12.11"
  }
 },
 "nbformat": 4,
 "nbformat_minor": 5
}
