{
 "cells": [
  {
   "cell_type": "raw",
   "id": "4d59a880-fbc4-4d63-96b2-3b0939b4cd46",
   "metadata": {},
   "source": [
    "---\n",
    "website: \n",
    "  title: \"Data sampling\"\n",
    "  page-navigation: true\n",
    "execute:\n",
    "  eval: false\n",
    "---"
   ]
  },
  {
   "cell_type": "markdown",
   "id": "6a9be668-d520-41b6-b713-f7fd668d0e77",
   "metadata": {},
   "source": [
    "`scripts/make_presto_data.py` extracts the data from `zarr` files into a single `GeoDataFrame`. The steps and sampling of external data is explained here."
   ]
  },
  {
   "cell_type": "markdown",
   "id": "56266327-9e55-4e16-9ab2-3ab98b5ff947",
   "metadata": {},
   "source": [
    "The field data is sampled only from within 35WNT. In addition to these data, we add 100 randomly sampled points for both asphalt roads and buildings, using Topographic Database as the reference."
   ]
  },
  {
   "cell_type": "markdown",
   "id": "fbc58595-b6a6-4950-b890-571430eb93e0",
   "metadata": {},
   "source": [
    "```python\n",
    "aoi = gpd.read_file('data/AOI.geojson').to_crs('epsg:3067')\n",
    "plots = gpd.read_file('data/koealat_kaikki3101.shp', bbox=tuple(aoi.total_bounds)).to_crs('epsg:3067')\n",
    "roadpoints = gpd.read_file('data/mtkpisteet.gpkg', layer='tiet')\n",
    "roadpoints = roadpoints[roadpoints.kohdeluokka.isin([12111,12112,12121,12122])].copy()\n",
    "buildings = gpd.read_file('data/mtkpisteet.gpkg', layer='rakennus')\n",
    "\n",
    "plots = plots[['Inventoint', 'InvLK', 'geometry']]\n",
    "plots.loc[plots.Inventoint == '430','Inventoint'] = '430 Järvi tai lampi'\n",
    "plots['Inventoint'] = plots.Inventoint.apply(lambda row: row[4:])\n",
    "plots.rename(columns={'Inventoint': 'label'}, inplace=True)\n",
    "\n",
    "sample_roads = roadpoints.sample(100, random_state=66)[['kohdeluokka', 'geometry']]\n",
    "sample_buildings = buildings.sample(100, random_state=66)[['kohdeluokka', 'geometry']]\n",
    "\n",
    "sample_roads['label'] = 'Tie'\n",
    "sample_buildings['label'] = 'Rakennus'\n",
    "sample_roads.rename(columns={'kohdeluokka': 'InvLK'}, inplace=True)\n",
    "sample_buildings.rename(columns={'kohdeluokka': 'InvLK'}, inplace=True)\n",
    "\n",
    "sample_buildings = sample_buildings.to_crs('epsg:3067')\n",
    "sample_roads = sample_roads.to_crs('epsg:3067')\n",
    "df = pd.concat((plots, sample_buildings, sample_roads))\n",
    "```"
   ]
  },
  {
   "cell_type": "markdown",
   "id": "2f27116e-8778-465d-9e04-597313f7617b",
   "metadata": {},
   "source": [
    "Next sample elevation and slope:"
   ]
  },
  {
   "cell_type": "markdown",
   "id": "633ea85c-08ed-41e5-8e9c-751f77b2907a",
   "metadata": {},
   "source": [
    "```python\n",
    "xs = xr.DataArray(df.geometry.x.to_numpy(), dims='points', coords={'points': np.arange(len(df))})\n",
    "ys = xr.DataArray(df.geometry.y.to_numpy(), dims='points', coords={'points': np.arange(len(df))})\n",
    "\n",
    "dtm = xr.open_dataset('data/dtm.zarr')\n",
    "elevations = dtm['elevation'].sel(x=xs, y=ys, method='nearest')\n",
    "slopes = dtm['slope'].sel(x=xs, y=ys, method='nearest')\n",
    "\n",
    "df['elevation'] = elevations.values\n",
    "df['slope'] = slopes.values\n",
    "```"
   ]
  },
  {
   "cell_type": "markdown",
   "id": "2f675ae9-e986-4700-91a3-89be35e5b7de",
   "metadata": {},
   "source": [
    "Then temperature and precipitation:"
   ]
  },
  {
   "cell_type": "markdown",
   "id": "ca34f474-8e33-476a-9ef4-25cde67a2071",
   "metadata": {},
   "source": [
    "```python\n",
    "fmi_data = xr.open_dataset('data/fmi.zarr').sel(x=xs, y=ys, method='nearest')\n",
    "\n",
    "for t in ['precipitation', 'temperature']:\n",
    "    for y in fmi_data.year.values:\n",
    "        for m in fmi_data.month.values:\n",
    "            df[f'{t}_{y}_{m}'] = fmi_data[t].sel({'year': y, 'month': m})\n",
    "```"
   ]
  },
  {
   "cell_type": "markdown",
   "id": "fce36260-363c-436b-904e-5f6c11b8888e",
   "metadata": {},
   "source": [
    "Finally sample monthly Sentinel-2 data:"
   ]
  },
  {
   "cell_type": "markdown",
   "id": "d4a43a3d-680c-49bc-a492-73829a513ce7",
   "metadata": {},
   "source": [
    "```python\n",
    "xs_s2 = xr.DataArray(df.to_crs('epsg:32635').geometry.x.to_numpy(), dims='points', coords={'points': np.arange(len(df))})\n",
    "ys_s2 = xr.DataArray(df.to_crs('epsg:32635').geometry.y.to_numpy(), dims='points', coords={'points': np.arange(len(df))})\n",
    "\n",
    "months = [1,2,3,4,5,6,7,8,9,10,11,12]\n",
    "\n",
    "s2_2020 = xr.open_dataset('s2-data/medians/2020/35WNT.zarr').sel(x=xs_s2, y=ys_s2, method='nearest')\n",
    "for b in s2_2020.data_vars:\n",
    "    for m in months:\n",
    "        if m not in s2_2020.month.values: df[f'{b}_2020_{m}'] = np.nan\n",
    "        else: df[f'{b}_2020_{m}'] = s2_2020[b].sel({'month': m})\n",
    "\n",
    "s2_2021 = xr.open_dataset('s2-data/medians/2021/35WNT.zarr').sel(x=xs_s2, y=ys_s2, method='nearest')\n",
    "for b in s2_2021.data_vars:\n",
    "    for m in months:\n",
    "        if m not in s2_2021.month.values: df[f'{b}_2021_{m}'] = np.nan\n",
    "        else: df[f'{b}_2021_{m}'] = s2_2021[b].sel({'month': m})\n",
    "\n",
    "s2_2022 = xr.open_dataset('s2-data/medians/2022/35WNT.zarr').sel(x=xs_s2, y=ys_s2, method='nearest')\n",
    "for b in s2_2022.data_vars:\n",
    "    for m in months:\n",
    "        if m not in s2_2022.month.values: df[f'{b}_2022_{m}'] = np.nan\n",
    "        else: df[f'{b}_2022_{m}'] = s2_2022[b].sel({'month': m})\n",
    "\n",
    "df.to_file('sampled_data.gpkg')\n",
    "\n",
    "```"
   ]
  }
 ],
 "metadata": {
  "kernelspec": {
   "display_name": "Python [conda env:presto]",
   "language": "python",
   "name": "conda-env-presto-py"
  },
  "language_info": {
   "codemirror_mode": {
    "name": "ipython",
    "version": 3
   },
   "file_extension": ".py",
   "mimetype": "text/x-python",
   "name": "python",
   "nbconvert_exporter": "python",
   "pygments_lexer": "ipython3",
   "version": "3.12.11"
  }
 },
 "nbformat": 4,
 "nbformat_minor": 5
}
